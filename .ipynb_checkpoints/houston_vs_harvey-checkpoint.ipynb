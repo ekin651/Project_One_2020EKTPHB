{
 "cells": [
  {
   "cell_type": "code",
   "execution_count": 1,
   "metadata": {},
   "outputs": [
    {
     "data": {
      "text/html": [
       "<div>\n",
       "<style scoped>\n",
       "    .dataframe tbody tr th:only-of-type {\n",
       "        vertical-align: middle;\n",
       "    }\n",
       "\n",
       "    .dataframe tbody tr th {\n",
       "        vertical-align: top;\n",
       "    }\n",
       "\n",
       "    .dataframe thead th {\n",
       "        text-align: right;\n",
       "    }\n",
       "</style>\n",
       "<table border=\"1\" class=\"dataframe\">\n",
       "  <thead>\n",
       "    <tr style=\"text-align: right;\">\n",
       "      <th></th>\n",
       "      <th>RegionName</th>\n",
       "      <th>2017-07</th>\n",
       "      <th>2017-08</th>\n",
       "      <th>2017-09</th>\n",
       "      <th>2017-10</th>\n",
       "      <th>2017-11</th>\n",
       "      <th>2017-12</th>\n",
       "    </tr>\n",
       "  </thead>\n",
       "  <tbody>\n",
       "    <tr>\n",
       "      <td>0</td>\n",
       "      <td>United States</td>\n",
       "      <td>69.0</td>\n",
       "      <td>72.0</td>\n",
       "      <td>77.0</td>\n",
       "      <td>81.0</td>\n",
       "      <td>85.0</td>\n",
       "      <td>92.0</td>\n",
       "    </tr>\n",
       "    <tr>\n",
       "      <td>1</td>\n",
       "      <td>Houston, TX</td>\n",
       "      <td>64.0</td>\n",
       "      <td>70.0</td>\n",
       "      <td>83.0</td>\n",
       "      <td>88.0</td>\n",
       "      <td>90.0</td>\n",
       "      <td>89.0</td>\n",
       "    </tr>\n",
       "  </tbody>\n",
       "</table>\n",
       "</div>"
      ],
      "text/plain": [
       "      RegionName  2017-07  2017-08  2017-09  2017-10  2017-11  2017-12\n",
       "0  United States     69.0     72.0     77.0     81.0     85.0     92.0\n",
       "1    Houston, TX     64.0     70.0     83.0     88.0     90.0     89.0"
      ]
     },
     "execution_count": 1,
     "metadata": {},
     "output_type": "execute_result"
    }
   ],
   "source": [
    "# Dependencies and Setup\n",
    "import matplotlib.pyplot as plt\n",
    "#import matplotlib.cbook as cbook\n",
    "import pandas as pd\n",
    "import numpy as np\n",
    "import requests\n",
    "import time\n",
    "from scipy.stats import linregress\n",
    "import scipy.stats as stats\n",
    "import gmaps\n",
    "import os\n",
    "\n",
    "\n",
    "# Import API key\n",
    "#from api_keys import weather_api_key\n",
    "\n",
    "# Incorporated citipy to determine city based on latitude and longitude\n",
    "#from citipy import citipy\n",
    "\n",
    "# Output File (CSV)\n",
    "#output_data_file = \"output_data/cities.csv\"\n",
    "\n",
    "# Input File Path (CSV)\n",
    "#csv_path = \"C:\\Users\\Lenovo\\Desktop\\Project_One_2020EKTPHB\\csv_files\"\n",
    "\n",
    "# Read clean csv files into DataFrames\n",
    "age_of_inventory_df = pd.read_csv(r'clean_csv_files\\age_of_inventory_c.csv')\n",
    "days_on_zillow_df = pd.read_csv(r'clean_csv_files\\days_on_zillow_c.csv')\n",
    "\n",
    "median_price_reduction_df = pd.read_csv(r'clean_csv_files\\median_price_reduction_c.csv')\n",
    "median_sale_price_df = pd.read_csv(r'clean_csv_files\\median_sale_price_c.csv') \n",
    "monthly_home_sales_df = pd.read_csv(r'clean_csv_files\\monthly_home_sales_c.csv') \n",
    "\n",
    "monthly_market_value_df = pd.read_csv(r'clean_csv_files\\monthly_market_value_c.csv') \n",
    "new_monthly_listings_df = pd.read_csv(r'clean_csv_files\\new_monthly_listings_c.csv') \n",
    "\n",
    "age_of_inventory_df \n"
   ]
  },
  {
   "cell_type": "code",
   "execution_count": 18,
   "metadata": {},
   "outputs": [
    {
     "data": {
      "text/plain": [
       "<Figure size 864x360 with 0 Axes>"
      ]
     },
     "metadata": {},
     "output_type": "display_data"
    },
    {
     "data": {
      "image/png": "[encoded data removed]",
      "text/plain": [
       "<Figure size 432x288 with 1 Axes>"
      ]
     },
     "metadata": {
      "needs_background": "light"
     },
     "output_type": "display_data"
    }
   ],
   "source": [
    "# Create group bar chart\n",
    "# Transpose DataFrame\n",
    "aoi = age_of_inventory_df.T\n",
    "aoi = aoi.iloc[1:85]\n",
    "# Reset index and rename columns\n",
    "aoi = aoi.reset_index()\n",
    "aoi = aoi.rename(columns = {0:\"United States\", 1:\"Houston\", \"index\":\"Year-Month\"})\n",
    "# Define axes\n",
    "labels = aoi[\"Year-Month\"]\n",
    "us_data = aoi[\"United States\"]\n",
    "hou_data = aoi[\"Houston\"]\n",
    "\n",
    "x = np.arange(len(labels))  # the label locations\n",
    "width = 0.20  # the width of the bars\n",
    "\n",
    "fig= plt.figure(figsize=(12,5))\n",
    "#fig, ax = plt.subplots(nrows=1, ncols=1)\n",
    "fig, ax = plt.subplots()\n",
    "rects1 = ax.bar(x - width/2, us_data, width, label='United States')\n",
    "rects2 = ax.bar(x + width/2, hou_data, width, label='Houston')\n",
    "\n",
    "#matplotlib.pyplot.figure(num=None, figsize=[8.4, 4.8])\n",
    "\n",
    "\n",
    "\n",
    "# Add some text for labels, title and custom x-axis tick labels, etc.\n",
    "ax.set_ylabel('Age of Inventory (days)')\n",
    "ax.set_title('Monthly Age of Inventory')\n",
    "ax.set_xticks(x)\n",
    "ax.set_xticklabels(labels)\n",
    "ax.legend()\n",
    "\n",
    "def autolabel(rects):\n",
    "    \"\"\"Attach a text label above each bar in *rects*, displaying its height.\"\"\"\n",
    "    for rect in rects:\n",
    "        height = rect.get_height()\n",
    "        ax.annotate('{}'.format(height),\n",
    "                    xy=(rect.get_x() + rect.get_width() / 2, height),\n",
    "                    xytext=(0, 2),  # 3 points vertical offset\n",
    "                    textcoords=\"offset points\",\n",
    "                    ha='center', va='bottom')\n",
    "\n",
    "autolabel(rects1)\n",
    "autolabel(rects2)\n",
    "#plt.figure(figsize=(5,7))\n",
    "fig.tight_layout()\n",
    "plt.show()"
   ]
  },
  {
   "cell_type": "code",
   "execution_count": 16,
   "metadata": {},
   "outputs": [],
   "source": [
    "# Generate some fake data to test with\n",
    "def gendata(loc=0):\n",
    "    population = us_data   # United States   # use larger data sets for both, 5 times more for pop\n",
    "    sample = hou_data      # Houston\n",
    "\n",
    "    # Scatter Plot of Data\n",
    "    plt.subplot(2, 1, 1)\n",
    "    plt.scatter(range(len(population)), population, label=\"population\")\n",
    "    plt.scatter(range(len(sample)), sample, label=\"sample\")\n",
    "    plt.legend()\n",
    "\n",
    "    # Histogram Plot of Data\n",
    "    plt.subplot(2, 1, 2)\n",
    "    plt.hist(population, 20, density=True, alpha=0.7, label=\"population\")\n",
    "    plt.hist(sample, 20, density=True, alpha=0.7, label=\"sample\")\n",
    "    plt.axvline(population.mean(), color='k', linestyle='dashed', linewidth=1)\n",
    "    plt.axvline(sample.mean(), color='k', linestyle='dashed', linewidth=1)\n",
    "    plt.legend()  \n",
    "    \n",
    "    return population, sample"
   ]
  },
  {
   "cell_type": "code",
   "execution_count": 5,
   "metadata": {},
   "outputs": [
    {
     "data": {
      "image/png": "[encoded data removed]",
      "text/plain": [
       "<Figure size 432x288 with 2 Axes>"
      ]
     },
     "metadata": {
      "needs_background": "light"
     },
     "output_type": "display_data"
    }
   ],
   "source": [
    "# Generate some data and show the scatter plot\n",
    "population, sample = gendata()"
   ]
  },
  {
   "cell_type": "code",
   "execution_count": 6,
   "metadata": {},
   "outputs": [
    {
     "data": {
      "text/plain": [
       "Ttest_1sampResult(statistic=0.2963369488719574, pvalue=0.7788868534963632)"
      ]
     },
     "execution_count": 6,
     "metadata": {},
     "output_type": "execute_result"
    }
   ],
   "source": [
    "stats.ttest_1samp(sample, population.mean())"
   ]
  },
  {
   "cell_type": "code",
   "execution_count": null,
   "metadata": {},
   "outputs": [],
   "source": []
  },
  {
   "cell_type": "code",
   "execution_count": null,
   "metadata": {},
   "outputs": [],
   "source": []
  }
 ],
 "metadata": {
  "kernelspec": {
   "display_name": "Python 3",
   "language": "python",
   "name": "python3"
  }
 },
 "nbformat": 4,
 "nbformat_minor": 2
}
